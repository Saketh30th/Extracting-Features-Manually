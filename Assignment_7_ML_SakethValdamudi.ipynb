{
 "cells": [
  {
   "cell_type": "markdown",
   "metadata": {},
   "source": [
    "# Importing Packages"
   ]
  },
  {
   "cell_type": "code",
   "execution_count": 116,
   "metadata": {},
   "outputs": [],
   "source": [
    "import numpy as np\n",
    "import pandas as pd\n",
    "import matplotlib as mlp\n",
    "from sklearn import model_selection\n",
    "from sklearn.metrics import accuracy_score\n",
    "from sklearn.linear_model import LinearRegression\n",
    "import warnings\n",
    "warnings.filterwarnings('ignore')"
   ]
  },
  {
   "cell_type": "code",
   "execution_count": 117,
   "metadata": {},
   "outputs": [],
   "source": [
    "import matplotlib.pyplot as plt\n",
    "plt.rcParams['figure.figsize'] = (10, 8)"
   ]
  },
  {
   "cell_type": "markdown",
   "metadata": {},
   "source": [
    "# Importing dataset"
   ]
  },
  {
   "cell_type": "code",
   "execution_count": 118,
   "metadata": {},
   "outputs": [
    {
     "name": "stderr",
     "output_type": "stream",
     "text": [
      "b'Skipping line 233: expected 14 fields, saw 15\\n'\n"
     ]
    },
    {
     "data": {
      "text/html": [
       "<div>\n",
       "<style scoped>\n",
       "    .dataframe tbody tr th:only-of-type {\n",
       "        vertical-align: middle;\n",
       "    }\n",
       "\n",
       "    .dataframe tbody tr th {\n",
       "        vertical-align: top;\n",
       "    }\n",
       "\n",
       "    .dataframe thead th {\n",
       "        text-align: right;\n",
       "    }\n",
       "</style>\n",
       "<table border=\"1\" class=\"dataframe\">\n",
       "  <thead>\n",
       "    <tr style=\"text-align: right;\">\n",
       "      <th></th>\n",
       "      <th>Movie</th>\n",
       "      <th>Year</th>\n",
       "      <th>Ratings</th>\n",
       "      <th>Genre</th>\n",
       "      <th>Gross</th>\n",
       "      <th>Budget</th>\n",
       "      <th>Screens</th>\n",
       "      <th>Sequel</th>\n",
       "      <th>Sentiment</th>\n",
       "      <th>Views</th>\n",
       "      <th>Likes</th>\n",
       "      <th>Dislikes</th>\n",
       "      <th>Comments</th>\n",
       "      <th>Aggregate Followers</th>\n",
       "    </tr>\n",
       "  </thead>\n",
       "  <tbody>\n",
       "    <tr>\n",
       "      <th>0</th>\n",
       "      <td>13 Sins</td>\n",
       "      <td>2014</td>\n",
       "      <td>6.3</td>\n",
       "      <td>8</td>\n",
       "      <td>9130</td>\n",
       "      <td>4000000.0</td>\n",
       "      <td>45.0</td>\n",
       "      <td>1</td>\n",
       "      <td>0</td>\n",
       "      <td>3280543</td>\n",
       "      <td>4632</td>\n",
       "      <td>425</td>\n",
       "      <td>636</td>\n",
       "      <td>1120000.0</td>\n",
       "    </tr>\n",
       "    <tr>\n",
       "      <th>1</th>\n",
       "      <td>22 Jump Street</td>\n",
       "      <td>2014</td>\n",
       "      <td>7.1</td>\n",
       "      <td>1</td>\n",
       "      <td>192000000</td>\n",
       "      <td>50000000.0</td>\n",
       "      <td>3306.0</td>\n",
       "      <td>2</td>\n",
       "      <td>2</td>\n",
       "      <td>583289</td>\n",
       "      <td>3465</td>\n",
       "      <td>61</td>\n",
       "      <td>186</td>\n",
       "      <td>12350000.0</td>\n",
       "    </tr>\n",
       "    <tr>\n",
       "      <th>2</th>\n",
       "      <td>3 Days to Kill</td>\n",
       "      <td>2014</td>\n",
       "      <td>6.2</td>\n",
       "      <td>1</td>\n",
       "      <td>30700000</td>\n",
       "      <td>28000000.0</td>\n",
       "      <td>2872.0</td>\n",
       "      <td>1</td>\n",
       "      <td>0</td>\n",
       "      <td>304861</td>\n",
       "      <td>328</td>\n",
       "      <td>34</td>\n",
       "      <td>47</td>\n",
       "      <td>483000.0</td>\n",
       "    </tr>\n",
       "    <tr>\n",
       "      <th>3</th>\n",
       "      <td>300: Rise of an Empire</td>\n",
       "      <td>2014</td>\n",
       "      <td>6.3</td>\n",
       "      <td>1</td>\n",
       "      <td>106000000</td>\n",
       "      <td>110000000.0</td>\n",
       "      <td>3470.0</td>\n",
       "      <td>2</td>\n",
       "      <td>0</td>\n",
       "      <td>452917</td>\n",
       "      <td>2429</td>\n",
       "      <td>132</td>\n",
       "      <td>590</td>\n",
       "      <td>568000.0</td>\n",
       "    </tr>\n",
       "    <tr>\n",
       "      <th>4</th>\n",
       "      <td>A Haunted House 2</td>\n",
       "      <td>2014</td>\n",
       "      <td>4.7</td>\n",
       "      <td>8</td>\n",
       "      <td>17300000</td>\n",
       "      <td>3500000.0</td>\n",
       "      <td>2310.0</td>\n",
       "      <td>2</td>\n",
       "      <td>0</td>\n",
       "      <td>3145573</td>\n",
       "      <td>12163</td>\n",
       "      <td>610</td>\n",
       "      <td>1082</td>\n",
       "      <td>1923800.0</td>\n",
       "    </tr>\n",
       "  </tbody>\n",
       "</table>\n",
       "</div>"
      ],
      "text/plain": [
       "                    Movie  Year  Ratings  Genre      Gross       Budget  \\\n",
       "0                 13 Sins  2014      6.3      8       9130    4000000.0   \n",
       "1          22 Jump Street  2014      7.1      1  192000000   50000000.0   \n",
       "2          3 Days to Kill  2014      6.2      1   30700000   28000000.0   \n",
       "3  300: Rise of an Empire  2014      6.3      1  106000000  110000000.0   \n",
       "4       A Haunted House 2  2014      4.7      8   17300000    3500000.0   \n",
       "\n",
       "   Screens  Sequel  Sentiment    Views  Likes  Dislikes  Comments  \\\n",
       "0     45.0       1          0  3280543   4632       425       636   \n",
       "1   3306.0       2          2   583289   3465        61       186   \n",
       "2   2872.0       1          0   304861    328        34        47   \n",
       "3   3470.0       2          0   452917   2429       132       590   \n",
       "4   2310.0       2          0  3145573  12163       610      1082   \n",
       "\n",
       "   Aggregate Followers  \n",
       "0            1120000.0  \n",
       "1           12350000.0  \n",
       "2             483000.0  \n",
       "3             568000.0  \n",
       "4            1923800.0  "
      ]
     },
     "execution_count": 118,
     "metadata": {},
     "output_type": "execute_result"
    }
   ],
   "source": [
    "df=pd.read_csv(\"2014 and 2015 CSM dataset.csv\",error_bad_lines=False)\n",
    "df.head()"
   ]
  },
  {
   "cell_type": "markdown",
   "metadata": {},
   "source": [
    "# Describing Dataset"
   ]
  },
  {
   "cell_type": "code",
   "execution_count": 119,
   "metadata": {},
   "outputs": [],
   "source": [
    "#need to remove movies as it's a string value and is of no use to us\n",
    "df=df.drop([\"Movie\"],axis=1)"
   ]
  },
  {
   "cell_type": "code",
   "execution_count": 120,
   "metadata": {},
   "outputs": [
    {
     "data": {
      "text/html": [
       "<div>\n",
       "<style scoped>\n",
       "    .dataframe tbody tr th:only-of-type {\n",
       "        vertical-align: middle;\n",
       "    }\n",
       "\n",
       "    .dataframe tbody tr th {\n",
       "        vertical-align: top;\n",
       "    }\n",
       "\n",
       "    .dataframe thead th {\n",
       "        text-align: right;\n",
       "    }\n",
       "</style>\n",
       "<table border=\"1\" class=\"dataframe\">\n",
       "  <thead>\n",
       "    <tr style=\"text-align: right;\">\n",
       "      <th></th>\n",
       "      <th>Year</th>\n",
       "      <th>Ratings</th>\n",
       "      <th>Genre</th>\n",
       "      <th>Gross</th>\n",
       "      <th>Budget</th>\n",
       "      <th>Screens</th>\n",
       "      <th>Sequel</th>\n",
       "      <th>Sentiment</th>\n",
       "      <th>Views</th>\n",
       "      <th>Likes</th>\n",
       "      <th>Dislikes</th>\n",
       "      <th>Comments</th>\n",
       "      <th>Aggregate Followers</th>\n",
       "    </tr>\n",
       "  </thead>\n",
       "  <tbody>\n",
       "    <tr>\n",
       "      <th>count</th>\n",
       "      <td>231.000000</td>\n",
       "      <td>231.000000</td>\n",
       "      <td>231.000000</td>\n",
       "      <td>2.310000e+02</td>\n",
       "      <td>2.300000e+02</td>\n",
       "      <td>221.000000</td>\n",
       "      <td>231.000000</td>\n",
       "      <td>231.000000</td>\n",
       "      <td>2.310000e+02</td>\n",
       "      <td>231.000000</td>\n",
       "      <td>231.000000</td>\n",
       "      <td>231.000000</td>\n",
       "      <td>1.960000e+02</td>\n",
       "    </tr>\n",
       "    <tr>\n",
       "      <th>mean</th>\n",
       "      <td>2014.294372</td>\n",
       "      <td>6.441558</td>\n",
       "      <td>5.359307</td>\n",
       "      <td>6.806603e+07</td>\n",
       "      <td>4.792173e+07</td>\n",
       "      <td>2209.244344</td>\n",
       "      <td>1.359307</td>\n",
       "      <td>2.809524</td>\n",
       "      <td>3.712851e+06</td>\n",
       "      <td>12732.536797</td>\n",
       "      <td>679.051948</td>\n",
       "      <td>1825.701299</td>\n",
       "      <td>3.038193e+06</td>\n",
       "    </tr>\n",
       "    <tr>\n",
       "      <th>std</th>\n",
       "      <td>0.456750</td>\n",
       "      <td>0.988765</td>\n",
       "      <td>4.141611</td>\n",
       "      <td>8.890289e+07</td>\n",
       "      <td>5.428825e+07</td>\n",
       "      <td>1463.767755</td>\n",
       "      <td>0.967241</td>\n",
       "      <td>6.996775</td>\n",
       "      <td>4.511104e+06</td>\n",
       "      <td>28825.484481</td>\n",
       "      <td>1243.929481</td>\n",
       "      <td>3571.040447</td>\n",
       "      <td>4.886278e+06</td>\n",
       "    </tr>\n",
       "    <tr>\n",
       "      <th>min</th>\n",
       "      <td>2014.000000</td>\n",
       "      <td>3.100000</td>\n",
       "      <td>1.000000</td>\n",
       "      <td>2.470000e+03</td>\n",
       "      <td>7.000000e+04</td>\n",
       "      <td>2.000000</td>\n",
       "      <td>1.000000</td>\n",
       "      <td>-38.000000</td>\n",
       "      <td>6.980000e+02</td>\n",
       "      <td>1.000000</td>\n",
       "      <td>0.000000</td>\n",
       "      <td>0.000000</td>\n",
       "      <td>1.066000e+03</td>\n",
       "    </tr>\n",
       "    <tr>\n",
       "      <th>25%</th>\n",
       "      <td>2014.000000</td>\n",
       "      <td>5.800000</td>\n",
       "      <td>1.000000</td>\n",
       "      <td>1.030000e+07</td>\n",
       "      <td>9.000000e+06</td>\n",
       "      <td>449.000000</td>\n",
       "      <td>1.000000</td>\n",
       "      <td>0.000000</td>\n",
       "      <td>6.233020e+05</td>\n",
       "      <td>1776.500000</td>\n",
       "      <td>105.500000</td>\n",
       "      <td>248.500000</td>\n",
       "      <td>1.830250e+05</td>\n",
       "    </tr>\n",
       "    <tr>\n",
       "      <th>50%</th>\n",
       "      <td>2014.000000</td>\n",
       "      <td>6.500000</td>\n",
       "      <td>3.000000</td>\n",
       "      <td>3.740000e+07</td>\n",
       "      <td>2.800000e+07</td>\n",
       "      <td>2777.000000</td>\n",
       "      <td>1.000000</td>\n",
       "      <td>0.000000</td>\n",
       "      <td>2.409338e+06</td>\n",
       "      <td>6096.000000</td>\n",
       "      <td>341.000000</td>\n",
       "      <td>837.000000</td>\n",
       "      <td>1.052600e+06</td>\n",
       "    </tr>\n",
       "    <tr>\n",
       "      <th>75%</th>\n",
       "      <td>2015.000000</td>\n",
       "      <td>7.100000</td>\n",
       "      <td>8.000000</td>\n",
       "      <td>8.935000e+07</td>\n",
       "      <td>6.500000e+07</td>\n",
       "      <td>3372.000000</td>\n",
       "      <td>1.000000</td>\n",
       "      <td>5.500000</td>\n",
       "      <td>5.217380e+06</td>\n",
       "      <td>15247.500000</td>\n",
       "      <td>697.500000</td>\n",
       "      <td>2137.000000</td>\n",
       "      <td>3.694500e+06</td>\n",
       "    </tr>\n",
       "    <tr>\n",
       "      <th>max</th>\n",
       "      <td>2015.000000</td>\n",
       "      <td>8.700000</td>\n",
       "      <td>15.000000</td>\n",
       "      <td>6.430000e+08</td>\n",
       "      <td>2.500000e+08</td>\n",
       "      <td>4324.000000</td>\n",
       "      <td>7.000000</td>\n",
       "      <td>29.000000</td>\n",
       "      <td>3.262678e+07</td>\n",
       "      <td>370552.000000</td>\n",
       "      <td>13960.000000</td>\n",
       "      <td>38363.000000</td>\n",
       "      <td>3.103000e+07</td>\n",
       "    </tr>\n",
       "  </tbody>\n",
       "</table>\n",
       "</div>"
      ],
      "text/plain": [
       "              Year     Ratings       Genre         Gross        Budget  \\\n",
       "count   231.000000  231.000000  231.000000  2.310000e+02  2.300000e+02   \n",
       "mean   2014.294372    6.441558    5.359307  6.806603e+07  4.792173e+07   \n",
       "std       0.456750    0.988765    4.141611  8.890289e+07  5.428825e+07   \n",
       "min    2014.000000    3.100000    1.000000  2.470000e+03  7.000000e+04   \n",
       "25%    2014.000000    5.800000    1.000000  1.030000e+07  9.000000e+06   \n",
       "50%    2014.000000    6.500000    3.000000  3.740000e+07  2.800000e+07   \n",
       "75%    2015.000000    7.100000    8.000000  8.935000e+07  6.500000e+07   \n",
       "max    2015.000000    8.700000   15.000000  6.430000e+08  2.500000e+08   \n",
       "\n",
       "           Screens      Sequel   Sentiment         Views          Likes  \\\n",
       "count   221.000000  231.000000  231.000000  2.310000e+02     231.000000   \n",
       "mean   2209.244344    1.359307    2.809524  3.712851e+06   12732.536797   \n",
       "std    1463.767755    0.967241    6.996775  4.511104e+06   28825.484481   \n",
       "min       2.000000    1.000000  -38.000000  6.980000e+02       1.000000   \n",
       "25%     449.000000    1.000000    0.000000  6.233020e+05    1776.500000   \n",
       "50%    2777.000000    1.000000    0.000000  2.409338e+06    6096.000000   \n",
       "75%    3372.000000    1.000000    5.500000  5.217380e+06   15247.500000   \n",
       "max    4324.000000    7.000000   29.000000  3.262678e+07  370552.000000   \n",
       "\n",
       "           Dislikes      Comments  Aggregate Followers  \n",
       "count    231.000000    231.000000         1.960000e+02  \n",
       "mean     679.051948   1825.701299         3.038193e+06  \n",
       "std     1243.929481   3571.040447         4.886278e+06  \n",
       "min        0.000000      0.000000         1.066000e+03  \n",
       "25%      105.500000    248.500000         1.830250e+05  \n",
       "50%      341.000000    837.000000         1.052600e+06  \n",
       "75%      697.500000   2137.000000         3.694500e+06  \n",
       "max    13960.000000  38363.000000         3.103000e+07  "
      ]
     },
     "execution_count": 120,
     "metadata": {},
     "output_type": "execute_result"
    }
   ],
   "source": [
    "df.describe()"
   ]
  },
  {
   "cell_type": "code",
   "execution_count": 121,
   "metadata": {},
   "outputs": [
    {
     "data": {
      "text/plain": [
       "Year                    0\n",
       "Ratings                 0\n",
       "Genre                   0\n",
       "Gross                   0\n",
       "Budget                  1\n",
       "Screens                10\n",
       "Sequel                  0\n",
       "Sentiment               0\n",
       "Views                   0\n",
       "Likes                   0\n",
       "Dislikes                0\n",
       "Comments                0\n",
       "Aggregate Followers    35\n",
       "dtype: int64"
      ]
     },
     "metadata": {},
     "output_type": "display_data"
    }
   ],
   "source": [
    "display(df.isnull().sum())"
   ]
  },
  {
   "cell_type": "code",
   "execution_count": 122,
   "metadata": {},
   "outputs": [],
   "source": [
    "Scr=df[\"Screens\"]\n",
    "df[\"Screens\"]=Scr.fillna(Scr.mean())\n",
    "Agg=df[\"Aggregate Followers\"]\n",
    "df[\"Aggregate Followers\"]=Agg.fillna(Agg.mean())\n",
    "bdg=df[\"Budget\"]\n",
    "df[\"Budget\"]=bdg.fillna(bdg.mean())"
   ]
  },
  {
   "cell_type": "code",
   "execution_count": 123,
   "metadata": {},
   "outputs": [],
   "source": [
    "from sklearn.preprocessing import LabelEncoder\n",
    "df = df.apply(LabelEncoder().fit_transform)"
   ]
  },
  {
   "cell_type": "code",
   "execution_count": 124,
   "metadata": {},
   "outputs": [
    {
     "name": "stdout",
     "output_type": "stream",
     "text": [
      "Year                     1.0\n",
      "Ratings                 13.0\n",
      "Genre                    6.0\n",
      "Gross                  108.0\n",
      "Budget                  44.0\n",
      "Screens                100.0\n",
      "Sequel                   0.0\n",
      "Sentiment                5.5\n",
      "Views                  115.0\n",
      "Likes                  114.0\n",
      "Dislikes               102.0\n",
      "Comments               109.0\n",
      "Aggregate Followers     82.0\n",
      "dtype: float64\n"
     ]
    }
   ],
   "source": [
    "Q1 = df.quantile(0.25)\n",
    "Q3 = df.quantile(0.75)\n",
    "IQR = Q3 - Q1\n",
    "print(IQR)"
   ]
  },
  {
   "cell_type": "markdown",
   "metadata": {},
   "source": [
    "# Exploring Data Set"
   ]
  },
  {
   "cell_type": "code",
   "execution_count": 125,
   "metadata": {},
   "outputs": [
    {
     "data": {
      "text/plain": [
       "(175, 13)"
      ]
     },
     "execution_count": 125,
     "metadata": {},
     "output_type": "execute_result"
    }
   ],
   "source": [
    "df = df[~((df < (Q1 - 1.5 * IQR)) |(df > (Q3 + 1.5 * IQR))).any(axis=1)]\n",
    "df.shape"
   ]
  },
  {
   "cell_type": "code",
   "execution_count": 126,
   "metadata": {},
   "outputs": [],
   "source": [
    "#Thought about taking Aggregate followers as target\n",
    "label=df[\"Aggregate Followers\"]\n",
    "df=df.drop([\"Aggregate Followers\"],axis=1)"
   ]
  },
  {
   "cell_type": "code",
   "execution_count": 127,
   "metadata": {},
   "outputs": [
    {
     "data": {
      "text/plain": [
       "count    175.000000\n",
       "mean      98.320000\n",
       "std       50.608713\n",
       "min        0.000000\n",
       "25%       55.500000\n",
       "50%      110.000000\n",
       "75%      137.000000\n",
       "max      188.000000\n",
       "Name: Aggregate Followers, dtype: float64"
      ]
     },
     "execution_count": 127,
     "metadata": {},
     "output_type": "execute_result"
    }
   ],
   "source": [
    "label.describe()"
   ]
  },
  {
   "cell_type": "code",
   "execution_count": 128,
   "metadata": {
    "scrolled": true
   },
   "outputs": [
    {
     "data": {
      "text/plain": [
       "<matplotlib.axes._subplots.AxesSubplot at 0x102e67b0>"
      ]
     },
     "execution_count": 128,
     "metadata": {},
     "output_type": "execute_result"
    },
    {
     "data": {
      "image/png": "[encoded data removed]",
      "text/plain": [
       "<matplotlib.figure.Figure at 0x10ba2690>"
      ]
     },
     "metadata": {},
     "output_type": "display_data"
    }
   ],
   "source": [
    "df.boxplot()"
   ]
  },
  {
   "cell_type": "code",
   "execution_count": 129,
   "metadata": {},
   "outputs": [
    {
     "data": {
      "text/plain": [
       "<matplotlib.axes._subplots.AxesSubplot at 0x107b5570>"
      ]
     },
     "execution_count": 129,
     "metadata": {},
     "output_type": "execute_result"
    },
    {
     "data": {
      "image/png": "[encoded data removed]",
      "text/plain": [
       "<matplotlib.figure.Figure at 0x107b5150>"
      ]
     },
     "metadata": {},
     "output_type": "display_data"
    }
   ],
   "source": [
    "import numpy as np\n",
    "from collections import Counter\n",
    "state_counts = Counter(df['Ratings'])\n",
    "df_state = pd.DataFrame.from_dict(state_counts, orient='index')\n",
    "df_state.columns = ['Ratings']\n",
    "df_state.plot(kind='bar')"
   ]
  },
  {
   "cell_type": "code",
   "execution_count": 130,
   "metadata": {},
   "outputs": [
    {
     "data": {
      "text/plain": [
       "<matplotlib.axes._subplots.AxesSubplot at 0x10e80810>"
      ]
     },
     "execution_count": 130,
     "metadata": {},
     "output_type": "execute_result"
    },
    {
     "data": {
      "image/png": "[encoded data removed]",
      "text/plain": [
       "<matplotlib.figure.Figure at 0x10be6db0>"
      ]
     },
     "metadata": {},
     "output_type": "display_data"
    }
   ],
   "source": [
    "import numpy as np\n",
    "from collections import Counter\n",
    "state_counts = Counter(df['Genre'])\n",
    "df_state = pd.DataFrame.from_dict(state_counts, orient='index')\n",
    "df_state.columns = ['Genre']\n",
    "df_state.plot(kind='bar')"
   ]
  },
  {
   "cell_type": "code",
   "execution_count": 131,
   "metadata": {},
   "outputs": [
    {
     "data": {
      "text/plain": [
       "<matplotlib.axes._subplots.AxesSubplot at 0x10e5aa50>"
      ]
     },
     "execution_count": 131,
     "metadata": {},
     "output_type": "execute_result"
    },
    {
     "data": {
      "image/png": "[encoded data removed]",
      "text/plain": [
       "<matplotlib.figure.Figure at 0x10f86950>"
      ]
     },
     "metadata": {},
     "output_type": "display_data"
    }
   ],
   "source": [
    "import numpy as np\n",
    "from collections import Counter\n",
    "state_counts = Counter(df['Year'])\n",
    "df_state = pd.DataFrame.from_dict(state_counts, orient='index')\n",
    "df_state.columns = ['Year']\n",
    "df_state.plot(kind='bar')"
   ]
  },
  {
   "cell_type": "code",
   "execution_count": 132,
   "metadata": {},
   "outputs": [
    {
     "data": {
      "text/plain": [
       "Year         int32\n",
       "Ratings      int32\n",
       "Genre        int32\n",
       "Gross        int32\n",
       "Budget       int32\n",
       "Screens      int32\n",
       "Sequel       int32\n",
       "Sentiment    int32\n",
       "Views        int32\n",
       "Likes        int32\n",
       "Dislikes     int32\n",
       "Comments     int32\n",
       "dtype: object"
      ]
     },
     "execution_count": 132,
     "metadata": {},
     "output_type": "execute_result"
    }
   ],
   "source": [
    "df.dtypes"
   ]
  },
  {
   "cell_type": "code",
   "execution_count": 133,
   "metadata": {},
   "outputs": [
    {
     "data": {
      "text/plain": [
       "Year         0\n",
       "Ratings      0\n",
       "Genre        0\n",
       "Gross        0\n",
       "Budget       0\n",
       "Screens      0\n",
       "Sequel       0\n",
       "Sentiment    0\n",
       "Views        0\n",
       "Likes        0\n",
       "Dislikes     0\n",
       "Comments     0\n",
       "dtype: int64"
      ]
     },
     "execution_count": 133,
     "metadata": {},
     "output_type": "execute_result"
    }
   ],
   "source": [
    "df.isnull().sum()"
   ]
  },
  {
   "cell_type": "markdown",
   "metadata": {
    "scrolled": true
   },
   "source": [
    "# Splitting the data for Train and Test"
   ]
  },
  {
   "cell_type": "code",
   "execution_count": 134,
   "metadata": {},
   "outputs": [],
   "source": [
    "from sklearn.model_selection import train_test_split\n",
    "X_train, X_test, y_train, y_test = train_test_split(df, label, test_size = 0.2, random_state = 14)"
   ]
  },
  {
   "cell_type": "markdown",
   "metadata": {},
   "source": [
    "### Rescaling the Features "
   ]
  },
  {
   "cell_type": "code",
   "execution_count": 135,
   "metadata": {},
   "outputs": [],
   "source": [
    "from sklearn.preprocessing import MinMaxScaler"
   ]
  },
  {
   "cell_type": "code",
   "execution_count": 136,
   "metadata": {},
   "outputs": [],
   "source": [
    "scaler = MinMaxScaler()"
   ]
  },
  {
   "cell_type": "code",
   "execution_count": 137,
   "metadata": {},
   "outputs": [],
   "source": [
    "# Apply scaler() to all the columns except the 'yes-no' and 'dummy' variables\n",
    "num_vars = ['Ratings', 'Genre', 'Gross', 'Budget', 'Screens','Sequel','Sentiment','Views','Likes','Dislikes','Comments']\n",
    "\n",
    "X_train[num_vars] = scaler.fit_transform(X_train[num_vars])"
   ]
  },
  {
   "cell_type": "code",
   "execution_count": 138,
   "metadata": {},
   "outputs": [
    {
     "data": {
      "text/html": [
       "<div>\n",
       "<style scoped>\n",
       "    .dataframe tbody tr th:only-of-type {\n",
       "        vertical-align: middle;\n",
       "    }\n",
       "\n",
       "    .dataframe tbody tr th {\n",
       "        vertical-align: top;\n",
       "    }\n",
       "\n",
       "    .dataframe thead th {\n",
       "        text-align: right;\n",
       "    }\n",
       "</style>\n",
       "<table border=\"1\" class=\"dataframe\">\n",
       "  <thead>\n",
       "    <tr style=\"text-align: right;\">\n",
       "      <th></th>\n",
       "      <th>Year</th>\n",
       "      <th>Ratings</th>\n",
       "      <th>Genre</th>\n",
       "      <th>Gross</th>\n",
       "      <th>Budget</th>\n",
       "      <th>Screens</th>\n",
       "      <th>Sequel</th>\n",
       "      <th>Sentiment</th>\n",
       "      <th>Views</th>\n",
       "      <th>Likes</th>\n",
       "      <th>Dislikes</th>\n",
       "      <th>Comments</th>\n",
       "    </tr>\n",
       "  </thead>\n",
       "  <tbody>\n",
       "    <tr>\n",
       "      <th>194</th>\n",
       "      <td>1</td>\n",
       "      <td>0.795455</td>\n",
       "      <td>0.0</td>\n",
       "      <td>0.504717</td>\n",
       "      <td>0.19</td>\n",
       "      <td>0.331606</td>\n",
       "      <td>0.0</td>\n",
       "      <td>0.904762</td>\n",
       "      <td>0.506550</td>\n",
       "      <td>0.535398</td>\n",
       "      <td>0.410891</td>\n",
       "      <td>0.561321</td>\n",
       "    </tr>\n",
       "    <tr>\n",
       "      <th>85</th>\n",
       "      <td>0</td>\n",
       "      <td>0.090909</td>\n",
       "      <td>1.0</td>\n",
       "      <td>0.617925</td>\n",
       "      <td>0.19</td>\n",
       "      <td>0.367876</td>\n",
       "      <td>0.0</td>\n",
       "      <td>0.190476</td>\n",
       "      <td>0.951965</td>\n",
       "      <td>0.911504</td>\n",
       "      <td>0.930693</td>\n",
       "      <td>0.915094</td>\n",
       "    </tr>\n",
       "    <tr>\n",
       "      <th>86</th>\n",
       "      <td>0</td>\n",
       "      <td>0.704545</td>\n",
       "      <td>0.6</td>\n",
       "      <td>0.712264</td>\n",
       "      <td>0.67</td>\n",
       "      <td>0.746114</td>\n",
       "      <td>0.0</td>\n",
       "      <td>1.000000</td>\n",
       "      <td>0.458515</td>\n",
       "      <td>0.380531</td>\n",
       "      <td>0.584158</td>\n",
       "      <td>0.410377</td>\n",
       "    </tr>\n",
       "    <tr>\n",
       "      <th>71</th>\n",
       "      <td>0</td>\n",
       "      <td>0.500000</td>\n",
       "      <td>0.6</td>\n",
       "      <td>0.108491</td>\n",
       "      <td>0.40</td>\n",
       "      <td>0.124352</td>\n",
       "      <td>0.0</td>\n",
       "      <td>0.380952</td>\n",
       "      <td>0.113537</td>\n",
       "      <td>0.137168</td>\n",
       "      <td>0.099010</td>\n",
       "      <td>0.117925</td>\n",
       "    </tr>\n",
       "    <tr>\n",
       "      <th>177</th>\n",
       "      <td>1</td>\n",
       "      <td>0.727273</td>\n",
       "      <td>0.0</td>\n",
       "      <td>0.816038</td>\n",
       "      <td>0.71</td>\n",
       "      <td>0.886010</td>\n",
       "      <td>0.0</td>\n",
       "      <td>0.380952</td>\n",
       "      <td>0.825328</td>\n",
       "      <td>0.836283</td>\n",
       "      <td>0.727723</td>\n",
       "      <td>0.669811</td>\n",
       "    </tr>\n",
       "  </tbody>\n",
       "</table>\n",
       "</div>"
      ],
      "text/plain": [
       "     Year   Ratings  Genre     Gross  Budget   Screens  Sequel  Sentiment  \\\n",
       "194     1  0.795455    0.0  0.504717    0.19  0.331606     0.0   0.904762   \n",
       "85      0  0.090909    1.0  0.617925    0.19  0.367876     0.0   0.190476   \n",
       "86      0  0.704545    0.6  0.712264    0.67  0.746114     0.0   1.000000   \n",
       "71      0  0.500000    0.6  0.108491    0.40  0.124352     0.0   0.380952   \n",
       "177     1  0.727273    0.0  0.816038    0.71  0.886010     0.0   0.380952   \n",
       "\n",
       "        Views     Likes  Dislikes  Comments  \n",
       "194  0.506550  0.535398  0.410891  0.561321  \n",
       "85   0.951965  0.911504  0.930693  0.915094  \n",
       "86   0.458515  0.380531  0.584158  0.410377  \n",
       "71   0.113537  0.137168  0.099010  0.117925  \n",
       "177  0.825328  0.836283  0.727723  0.669811  "
      ]
     },
     "execution_count": 138,
     "metadata": {},
     "output_type": "execute_result"
    }
   ],
   "source": [
    "X_train.head()"
   ]
  },
  {
   "cell_type": "code",
   "execution_count": 139,
   "metadata": {},
   "outputs": [
    {
     "data": {
      "image/png": "[encoded data removed]",
      "text/plain": [
       "<matplotlib.figure.Figure at 0x10e966d0>"
      ]
     },
     "metadata": {},
     "output_type": "display_data"
    }
   ],
   "source": [
    "import seaborn as sns\n",
    "plt.figure(figsize = (16, 10))\n",
    "sns.heatmap(X_train.corr(), annot = True, cmap=\"YlGnBu\")\n",
    "plt.show()"
   ]
  },
  {
   "cell_type": "markdown",
   "metadata": {},
   "source": [
    "As you might have noticed, 'comments' seems to the correlated to 'likes' the most(0.94) . Let's see a pairplot for 'comments' vs 'likes'."
   ]
  },
  {
   "cell_type": "code",
   "execution_count": 140,
   "metadata": {},
   "outputs": [
    {
     "data": {
      "image/png": "[encoded data removed]",
      "text/plain": [
       "<matplotlib.figure.Figure at 0x10e96d70>"
      ]
     },
     "metadata": {},
     "output_type": "display_data"
    }
   ],
   "source": [
    "plt.figure(figsize=[6,6])\n",
    "plt.scatter(X_train.Comments, X_train.Likes)\n",
    "plt.show()"
   ]
  },
  {
   "cell_type": "markdown",
   "metadata": {},
   "source": [
    " We can take our new input feature as 'comments' and target to be 'likes'"
   ]
  },
  {
   "cell_type": "code",
   "execution_count": 141,
   "metadata": {},
   "outputs": [],
   "source": [
    "#A is our new input feature and b our new target \n",
    "A = df.Comments\n",
    "b = df.Likes\n",
    "A=A.reshape(-1,1)"
   ]
  },
  {
   "cell_type": "code",
   "execution_count": 142,
   "metadata": {},
   "outputs": [
    {
     "data": {
      "text/plain": [
       "<matplotlib.axes._subplots.AxesSubplot at 0xd9b390>"
      ]
     },
     "execution_count": 142,
     "metadata": {},
     "output_type": "execute_result"
    },
    {
     "data": {
      "image/png": "[encoded data removed]",
      "text/plain": [
       "<matplotlib.figure.Figure at 0xc5896f0>"
      ]
     },
     "metadata": {},
     "output_type": "display_data"
    }
   ],
   "source": [
    "sns.regplot(A, b)"
   ]
  },
  {
   "cell_type": "code",
   "execution_count": 143,
   "metadata": {},
   "outputs": [],
   "source": [
    "# splitting the data for train and test\n",
    "from sklearn.model_selection import train_test_split\n",
    "A_train, A_test, b_train, b_test = train_test_split(A, b, test_size = 0.2, random_state = 14)"
   ]
  },
  {
   "cell_type": "code",
   "execution_count": 144,
   "metadata": {},
   "outputs": [],
   "source": [
    "classifier = LinearRegression()\n",
    "classifier.fit(A_train, b_train)\n",
    "b_pred2 = classifier.predict(A_test)"
   ]
  },
  {
   "cell_type": "code",
   "execution_count": 145,
   "metadata": {},
   "outputs": [
    {
     "name": "stdout",
     "output_type": "stream",
     "text": [
      "82.186374367946 %\n"
     ]
    }
   ],
   "source": [
    "accuracy1=classifier.score(A_test,b_test)\n",
    "print(accuracy1*100,'%')"
   ]
  },
  {
   "cell_type": "markdown",
   "metadata": {},
   "source": [
    "We see that the accuracy score for our model is around 82%"
   ]
  },
  {
   "cell_type": "code",
   "execution_count": 146,
   "metadata": {},
   "outputs": [
    {
     "name": "stdout",
     "output_type": "stream",
     "text": [
      "     Actual   Predicted\n",
      "20      181  164.556141\n",
      "32      198  204.450658\n",
      "90       51   57.522072\n",
      "210     158  136.338069\n",
      "146     102  159.690956\n",
      "25      139  166.502215\n",
      "220     187  167.475252\n",
      "201     146  173.313474\n",
      "67      106   62.387257\n",
      "60       91   79.901923\n",
      "82      218  215.154065\n",
      "218     217  198.612436\n",
      "9       148  104.227848\n",
      "138      77   81.847997\n",
      "64       15   16.654519\n",
      "160      48   33.196148\n",
      "179      92   55.575998\n",
      "8        61   70.171553\n",
      "224     143  150.933623\n",
      "159      46   46.818665\n",
      "186     144  103.254811\n",
      "122      59   83.794071\n",
      "152     185  184.016881\n",
      "40       88  139.257180\n",
      "109      21   60.441183\n",
      "56      133  181.097770\n",
      "123      80   82.821034\n",
      "117     171  156.771845\n",
      "139      45   53.629924\n",
      "30       81  119.796440\n",
      "95       79   74.063701\n",
      "99        7   13.735408\n",
      "155     176  175.259548\n",
      "5        13   11.789334\n",
      "23      134  129.526810\n"
     ]
    }
   ],
   "source": [
    "prediction_table = pd.DataFrame({\"Actual\":b_test,\"Predicted\":b_pred2})\n",
    "print(prediction_table)"
   ]
  },
  {
   "cell_type": "code",
   "execution_count": 147,
   "metadata": {},
   "outputs": [
    {
     "data": {
      "image/png": "[encoded data removed]",
      "text/plain": [
       "<matplotlib.figure.Figure at 0xd37d50>"
      ]
     },
     "metadata": {},
     "output_type": "display_data"
    }
   ],
   "source": [
    "#Plotting of Regression Model\n",
    "\n",
    "plt.scatter(A_train, b_train)\n",
    "\n",
    "plt.plot(A_test,b_pred2,'r')\n",
    "plt.show()"
   ]
  },
  {
   "cell_type": "code",
   "execution_count": 148,
   "metadata": {},
   "outputs": [
    {
     "name": "stdout",
     "output_type": "stream",
     "text": [
      "MSE: 648.482864988731\n",
      "MAE: 19.039162190722788\n",
      "RMSE: 25.465326720635865\n"
     ]
    }
   ],
   "source": [
    "#Evaluation Metrics\n",
    "from sklearn import metrics\n",
    "print('MSE:', metrics.mean_squared_error(b_test, classifier.predict(A_test)))\n",
    "print('MAE:', metrics.mean_absolute_error(b_test, classifier.predict(A_test)))\n",
    "print('RMSE:', np.sqrt(metrics.mean_squared_error(b_test, classifier.predict(A_test))))"
   ]
  },
  {
   "cell_type": "markdown",
   "metadata": {},
   "source": [
    "Since we have so many features, we can clearly do better than this. So let's go ahead and add the second most highly correlated variable, i.e. views (0.93) as seen from the heatmap"
   ]
  },
  {
   "cell_type": "code",
   "execution_count": 149,
   "metadata": {},
   "outputs": [],
   "source": [
    "A2 = df[['Views', 'Comments']]"
   ]
  },
  {
   "cell_type": "code",
   "execution_count": 150,
   "metadata": {},
   "outputs": [],
   "source": [
    "from sklearn.model_selection import train_test_split\n",
    "A_train1, A_test1, b_train, b_test = train_test_split(A2, b, test_size = 0.2, random_state = 14)"
   ]
  },
  {
   "cell_type": "code",
   "execution_count": 151,
   "metadata": {},
   "outputs": [],
   "source": [
    "classifier.fit(A_train1, b_train)\n",
    "b_pred3 = classifier.predict(A_test1)"
   ]
  },
  {
   "cell_type": "code",
   "execution_count": 152,
   "metadata": {},
   "outputs": [
    {
     "name": "stdout",
     "output_type": "stream",
     "text": [
      "91.0576792886927 %\n"
     ]
    }
   ],
   "source": [
    "accuracy2=classifier.score(A_test1,b_test)\n",
    "print(accuracy2*100,'%')"
   ]
  },
  {
   "cell_type": "markdown",
   "metadata": {},
   "source": [
    "We can see that we have a better accuracy after adding another feature. Now , let's have our model see the actual and predicted values and plot our linear regression."
   ]
  },
  {
   "cell_type": "code",
   "execution_count": 153,
   "metadata": {},
   "outputs": [
    {
     "name": "stdout",
     "output_type": "stream",
     "text": [
      "     Actual   Predicted\n",
      "20      181  181.099847\n",
      "32      198  204.807729\n",
      "90       51   43.942206\n",
      "210     158  143.727074\n",
      "146     102  148.421322\n",
      "25      139  146.717465\n",
      "220     187  169.071100\n",
      "201     146  167.818600\n",
      "67      106   69.342541\n",
      "60       91   84.023118\n",
      "82      218  219.736524\n",
      "218     217  208.001080\n",
      "9       148  135.816844\n",
      "138      77   93.795082\n",
      "64       15   20.200468\n",
      "160      48   47.947928\n",
      "179      92   62.797785\n",
      "8        61   87.081044\n",
      "224     143  165.099058\n",
      "159      46   51.333190\n",
      "186     144  132.386500\n",
      "122      59   66.205676\n",
      "152     185  185.658671\n",
      "40       88  124.905351\n",
      "109      21   39.676861\n",
      "56      133  171.000724\n",
      "123      80   82.183836\n",
      "117     171  174.036021\n",
      "139      45   65.641348\n",
      "30       81   82.499944\n",
      "95       79   68.293177\n",
      "99        7    8.453797\n",
      "155     176  185.839178\n",
      "5        13   12.267785\n",
      "23      134  143.975293\n"
     ]
    }
   ],
   "source": [
    "prediction_table = pd.DataFrame({\"Actual\":b_test,\"Predicted\":b_pred3})\n",
    "print(prediction_table)"
   ]
  },
  {
   "cell_type": "code",
   "execution_count": 154,
   "metadata": {},
   "outputs": [
    {
     "name": "stdout",
     "output_type": "stream",
     "text": [
      "MSE: 325.5340532183386\n",
      "MAE: 13.330568246149584\n",
      "RMSE: 18.042562268656262\n"
     ]
    }
   ],
   "source": [
    "print('MSE:', metrics.mean_squared_error(b_test, classifier.predict(A_test1)))\n",
    "print('MAE:', metrics.mean_absolute_error(b_test, classifier.predict(A_test1)))\n",
    "print('RMSE:', np.sqrt(metrics.mean_squared_error(b_test, classifier.predict(A_test1))))"
   ]
  },
  {
   "cell_type": "markdown",
   "metadata": {},
   "source": [
    "With the reduction in MSE we can know that our model performs better with the addition of the new input feature"
   ]
  },
  {
   "cell_type": "markdown",
   "metadata": {},
   "source": [
    "We can basically keep using the heatmap and add highly correlated values but also our input features should make sense in determining our target.It is lkely that the user 'comments' and 'views' play a key role in determining the 'likes'.\n",
    "\n",
    "Making sure we hit off all the parts of check list :-\n",
    "\n",
    "1) Looked at the Bigeer Problem \n",
    "2) Got the Data (imported)\n",
    "3) Explored the data to gain Insights \n",
    "4) Prepared the data to expose the underlying data patterns to Machine Learning Algorithm\n",
    "5) Explored Linear Regression and found it was accurate enough to add a feautre and gain better insights.\n",
    "6) Fine Tuned the model \n",
    "7) Presented the Solution"
   ]
  },
  {
   "cell_type": "code",
   "execution_count": null,
   "metadata": {},
   "outputs": [],
   "source": []
  }
 ],
 "metadata": {
  "kernelspec": {
   "display_name": "Python 3",
   "language": "python",
   "name": "python3"
  },
  "language_info": {
   "codemirror_mode": {
    "name": "ipython",
    "version": 3
   },
   "file_extension": ".py",
   "mimetype": "text/x-python",
   "name": "python",
   "nbconvert_exporter": "python",
   "pygments_lexer": "ipython3",
   "version": "3.6.4"
  }
 },
 "nbformat": 4,
 "nbformat_minor": 2
}
